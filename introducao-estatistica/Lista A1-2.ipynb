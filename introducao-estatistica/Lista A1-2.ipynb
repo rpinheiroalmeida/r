{
 "cells": [
  {
   "cell_type": "code",
   "execution_count": 14,
   "metadata": {},
   "outputs": [
    {
     "data": {
      "text/html": [
       "0.00277777777777778"
      ],
      "text/latex": [
       "0.00277777777777778"
      ],
      "text/markdown": [
       "0.00277777777777778"
      ],
      "text/plain": [
       "[1] 0.002777778"
      ]
     },
     "metadata": {},
     "output_type": "display_data"
    },
    {
     "data": {
      "text/html": [
       "0.00273972602739726"
      ],
      "text/latex": [
       "0.00273972602739726"
      ],
      "text/markdown": [
       "0.00273972602739726"
      ],
      "text/plain": [
       "[1] 0.002739726"
      ]
     },
     "metadata": {},
     "output_type": "display_data"
    }
   ],
   "source": [
    "# Probabilidade de 2 pessoas nascerem no mesmo dia/mês\n",
    "p <- (1/12) * (1/30)\n",
    "p\n",
    "\n"
   ]
  },
  {
   "cell_type": "code",
   "execution_count": 4,
   "metadata": {},
   "outputs": [
    {
     "data": {
      "text/html": [
       "0.0015625"
      ],
      "text/latex": [
       "0.0015625"
      ],
      "text/markdown": [
       "0.0015625"
      ],
      "text/plain": [
       "[1] 0.0015625"
      ]
     },
     "metadata": {},
     "output_type": "display_data"
    }
   ],
   "source": [
    "(12/48) * (30/48)"
   ]
  },
  {
   "cell_type": "code",
   "execution_count": 39,
   "metadata": {},
   "outputs": [
    {
     "ename": "ERROR",
     "evalue": "Error in sample.int(x, size, replace, prob): número de probabilidades incorreto\n",
     "output_type": "error",
     "traceback": [
      "Error in sample.int(x, size, replace, prob): número de probabilidades incorreto\nTraceback:\n",
      "1. sample(100, replace = TRUE, prob = 0.0027)",
      "2. sample.int(x, size, replace, prob)"
     ]
    }
   ],
   "source": [
    "help(sample)\n",
    "\n",
    "sample(100, replace = TRUE)"
   ]
  },
  {
   "cell_type": "code",
   "execution_count": 52,
   "metadata": {},
   "outputs": [
    {
     "data": {
      "text/html": [
       "<ol class=list-inline>\n",
       "\t<li>0.273972602739726</li>\n",
       "\t<li>0.273972602739726</li>\n",
       "\t<li>0.273972602739726</li>\n",
       "\t<li>0.273972602739726</li>\n",
       "\t<li>0.273972602739726</li>\n",
       "\t<li>0.273972602739726</li>\n",
       "\t<li>0.273972602739726</li>\n",
       "\t<li>0.273972602739726</li>\n",
       "\t<li>0.273972602739726</li>\n",
       "\t<li>0.273972602739726</li>\n",
       "\t<li>0.273972602739726</li>\n",
       "\t<li>0.273972602739726</li>\n",
       "\t<li>0.273972602739726</li>\n",
       "\t<li>0.273972602739726</li>\n",
       "\t<li>0.273972602739726</li>\n",
       "\t<li>0.273972602739726</li>\n",
       "\t<li>0.273972602739726</li>\n",
       "\t<li>0.273972602739726</li>\n",
       "\t<li>0.273972602739726</li>\n",
       "\t<li>0.273972602739726</li>\n",
       "\t<li>0.273972602739726</li>\n",
       "\t<li>0.273972602739726</li>\n",
       "\t<li>0.273972602739726</li>\n",
       "\t<li>0.273972602739726</li>\n",
       "\t<li>0.273972602739726</li>\n",
       "\t<li>0.273972602739726</li>\n",
       "\t<li>0.273972602739726</li>\n",
       "\t<li>0.273972602739726</li>\n",
       "\t<li>0.273972602739726</li>\n",
       "\t<li>0.273972602739726</li>\n",
       "\t<li>0.273972602739726</li>\n",
       "\t<li>0.273972602739726</li>\n",
       "\t<li>0.273972602739726</li>\n",
       "\t<li>0.273972602739726</li>\n",
       "\t<li>0.273972602739726</li>\n",
       "\t<li>0.273972602739726</li>\n",
       "\t<li>0.273972602739726</li>\n",
       "\t<li>0.273972602739726</li>\n",
       "\t<li>0.273972602739726</li>\n",
       "\t<li>0.273972602739726</li>\n",
       "\t<li>0.273972602739726</li>\n",
       "\t<li>0.273972602739726</li>\n",
       "\t<li>0.273972602739726</li>\n",
       "\t<li>0.273972602739726</li>\n",
       "\t<li>0.273972602739726</li>\n",
       "\t<li>0.273972602739726</li>\n",
       "\t<li>0.273972602739726</li>\n",
       "\t<li>0.273972602739726</li>\n",
       "\t<li>0.273972602739726</li>\n",
       "\t<li>0.273972602739726</li>\n",
       "\t<li>0.273972602739726</li>\n",
       "\t<li>0.273972602739726</li>\n",
       "\t<li>0.273972602739726</li>\n",
       "\t<li>0.273972602739726</li>\n",
       "\t<li>0.273972602739726</li>\n",
       "\t<li>0.273972602739726</li>\n",
       "\t<li>0.273972602739726</li>\n",
       "\t<li>0.273972602739726</li>\n",
       "\t<li>0.273972602739726</li>\n",
       "\t<li>0.273972602739726</li>\n",
       "</ol>\n"
      ],
      "text/latex": [
       "\\begin{enumerate*}\n",
       "\\item 0.273972602739726\n",
       "\\item 0.273972602739726\n",
       "\\item 0.273972602739726\n",
       "\\item 0.273972602739726\n",
       "\\item 0.273972602739726\n",
       "\\item 0.273972602739726\n",
       "\\item 0.273972602739726\n",
       "\\item 0.273972602739726\n",
       "\\item 0.273972602739726\n",
       "\\item 0.273972602739726\n",
       "\\item 0.273972602739726\n",
       "\\item 0.273972602739726\n",
       "\\item 0.273972602739726\n",
       "\\item 0.273972602739726\n",
       "\\item 0.273972602739726\n",
       "\\item 0.273972602739726\n",
       "\\item 0.273972602739726\n",
       "\\item 0.273972602739726\n",
       "\\item 0.273972602739726\n",
       "\\item 0.273972602739726\n",
       "\\item 0.273972602739726\n",
       "\\item 0.273972602739726\n",
       "\\item 0.273972602739726\n",
       "\\item 0.273972602739726\n",
       "\\item 0.273972602739726\n",
       "\\item 0.273972602739726\n",
       "\\item 0.273972602739726\n",
       "\\item 0.273972602739726\n",
       "\\item 0.273972602739726\n",
       "\\item 0.273972602739726\n",
       "\\item 0.273972602739726\n",
       "\\item 0.273972602739726\n",
       "\\item 0.273972602739726\n",
       "\\item 0.273972602739726\n",
       "\\item 0.273972602739726\n",
       "\\item 0.273972602739726\n",
       "\\item 0.273972602739726\n",
       "\\item 0.273972602739726\n",
       "\\item 0.273972602739726\n",
       "\\item 0.273972602739726\n",
       "\\item 0.273972602739726\n",
       "\\item 0.273972602739726\n",
       "\\item 0.273972602739726\n",
       "\\item 0.273972602739726\n",
       "\\item 0.273972602739726\n",
       "\\item 0.273972602739726\n",
       "\\item 0.273972602739726\n",
       "\\item 0.273972602739726\n",
       "\\item 0.273972602739726\n",
       "\\item 0.273972602739726\n",
       "\\item 0.273972602739726\n",
       "\\item 0.273972602739726\n",
       "\\item 0.273972602739726\n",
       "\\item 0.273972602739726\n",
       "\\item 0.273972602739726\n",
       "\\item 0.273972602739726\n",
       "\\item 0.273972602739726\n",
       "\\item 0.273972602739726\n",
       "\\item 0.273972602739726\n",
       "\\item 0.273972602739726\n",
       "\\end{enumerate*}\n"
      ],
      "text/markdown": [
       "1. 0.273972602739726\n",
       "2. 0.273972602739726\n",
       "3. 0.273972602739726\n",
       "4. 0.273972602739726\n",
       "5. 0.273972602739726\n",
       "6. 0.273972602739726\n",
       "7. 0.273972602739726\n",
       "8. 0.273972602739726\n",
       "9. 0.273972602739726\n",
       "10. 0.273972602739726\n",
       "11. 0.273972602739726\n",
       "12. 0.273972602739726\n",
       "13. 0.273972602739726\n",
       "14. 0.273972602739726\n",
       "15. 0.273972602739726\n",
       "16. 0.273972602739726\n",
       "17. 0.273972602739726\n",
       "18. 0.273972602739726\n",
       "19. 0.273972602739726\n",
       "20. 0.273972602739726\n",
       "21. 0.273972602739726\n",
       "22. 0.273972602739726\n",
       "23. 0.273972602739726\n",
       "24. 0.273972602739726\n",
       "25. 0.273972602739726\n",
       "26. 0.273972602739726\n",
       "27. 0.273972602739726\n",
       "28. 0.273972602739726\n",
       "29. 0.273972602739726\n",
       "30. 0.273972602739726\n",
       "31. 0.273972602739726\n",
       "32. 0.273972602739726\n",
       "33. 0.273972602739726\n",
       "34. 0.273972602739726\n",
       "35. 0.273972602739726\n",
       "36. 0.273972602739726\n",
       "37. 0.273972602739726\n",
       "38. 0.273972602739726\n",
       "39. 0.273972602739726\n",
       "40. 0.273972602739726\n",
       "41. 0.273972602739726\n",
       "42. 0.273972602739726\n",
       "43. 0.273972602739726\n",
       "44. 0.273972602739726\n",
       "45. 0.273972602739726\n",
       "46. 0.273972602739726\n",
       "47. 0.273972602739726\n",
       "48. 0.273972602739726\n",
       "49. 0.273972602739726\n",
       "50. 0.273972602739726\n",
       "51. 0.273972602739726\n",
       "52. 0.273972602739726\n",
       "53. 0.273972602739726\n",
       "54. 0.273972602739726\n",
       "55. 0.273972602739726\n",
       "56. 0.273972602739726\n",
       "57. 0.273972602739726\n",
       "58. 0.273972602739726\n",
       "59. 0.273972602739726\n",
       "60. 0.273972602739726\n",
       "\n",
       "\n"
      ],
      "text/plain": [
       " [1] 0.2739726 0.2739726 0.2739726 0.2739726 0.2739726 0.2739726 0.2739726\n",
       " [8] 0.2739726 0.2739726 0.2739726 0.2739726 0.2739726 0.2739726 0.2739726\n",
       "[15] 0.2739726 0.2739726 0.2739726 0.2739726 0.2739726 0.2739726 0.2739726\n",
       "[22] 0.2739726 0.2739726 0.2739726 0.2739726 0.2739726 0.2739726 0.2739726\n",
       "[29] 0.2739726 0.2739726 0.2739726 0.2739726 0.2739726 0.2739726 0.2739726\n",
       "[36] 0.2739726 0.2739726 0.2739726 0.2739726 0.2739726 0.2739726 0.2739726\n",
       "[43] 0.2739726 0.2739726 0.2739726 0.2739726 0.2739726 0.2739726 0.2739726\n",
       "[50] 0.2739726 0.2739726 0.2739726 0.2739726 0.2739726 0.2739726 0.2739726\n",
       "[57] 0.2739726 0.2739726 0.2739726 0.2739726"
      ]
     },
     "metadata": {},
     "output_type": "display_data"
    }
   ],
   "source": [
    "set.seed(1)\n",
    "\n",
    "simulacao <- function(tamanho_amostra) {\n",
    "    amostra_dias <- sample(100, replace = TRUE)\n",
    "    frequencia_absoluta <- rep(0, 365)\n",
    "\n",
    "    for(pos in 1:100) {\n",
    "        dia <- amostra_dias[pos]\n",
    "        frequencia_absoluta[dia] = frequencia_absoluta[dia] + 1\n",
    "    }\n",
    "\n",
    "    mean(frequencia_absoluta)\n",
    "}\n",
    "\n",
    "resultado <- rep(0, 58)\n",
    "for(i in 1:60) {\n",
    "    resultado[i] <- simulacao(i)\n",
    "}\n",
    "\n",
    "resultado\n"
   ]
  },
  {
   "cell_type": "code",
   "execution_count": 63,
   "metadata": {},
   "outputs": [
    {
     "data": {
      "image/png": "[encoded data removed]",
      "text/plain": [
       "plot without title"
      ]
     },
     "metadata": {},
     "output_type": "display_data"
    }
   ],
   "source": [
    "help(plot)\n",
    "\n",
    "plot(resultado,  type = \"s\", col = \"red\")"
   ]
  },
  {
   "cell_type": "code",
   "execution_count": 62,
   "metadata": {},
   "outputs": [
    {
     "ename": "ERROR",
     "evalue": "Error in media(resultado): não foi possível encontrar a função \"media\"\n",
     "output_type": "error",
     "traceback": [
      "Error in media(resultado): não foi possível encontrar a função \"media\"\nTraceback:\n",
      "1. abline(v = media(resultado), col = \"blue\")",
      "2. int_abline(a = a, b = b, h = h, v = v, untf = untf, ...)"
     ]
    },
    {
     "data": {
      "image/png": "[encoded data removed]",
      "text/plain": [
       "Plot with title \"Histogram of resultado\""
      ]
     },
     "metadata": {},
     "output_type": "display_data"
    }
   ],
   "source": [
    "\n",
    "hist(resultado)\n",
    "abline(v=mean(resultado), col=\"red\")\n",
    "abline(v=media(resultado), col=\"blue\")"
   ]
  },
  {
   "cell_type": "code",
   "execution_count": null,
   "metadata": {},
   "outputs": [],
   "source": []
  },
  {
   "cell_type": "code",
   "execution_count": null,
   "metadata": {},
   "outputs": [],
   "source": [
    "getwd()"
   ]
  }
 ],
 "metadata": {
  "kernelspec": {
   "display_name": "R",
   "language": "R",
   "name": "ir"
  },
  "language_info": {
   "codemirror_mode": "r",
   "file_extension": ".r",
   "mimetype": "text/x-r-source",
   "name": "R",
   "pygments_lexer": "r",
   "version": "3.6.1"
  }
 },
 "nbformat": 4,
 "nbformat_minor": 4
}
